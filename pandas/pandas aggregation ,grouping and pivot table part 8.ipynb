{
 "cells": [
  {
   "cell_type": "markdown",
   "id": "0c32e026",
   "metadata": {},
   "source": [
    "Aggregation in Pandas refers to the process of combining multiple pieces of data into a summary form, usually for the purposes of analysis. This is often done using functions that summarize a collection of data into a single value, such as sum(), mean(), median(), min(), max(), and count(). Aggregation can be performed on Series, DataFrame columns, or across multiple columns in DataFrames."
   ]
  },
  {
   "cell_type": "markdown",
   "id": "9616e13e",
   "metadata": {},
   "source": [
    "# Example 1: Aggregating a Series"
   ]
  },
  {
   "cell_type": "code",
   "execution_count": 1,
   "id": "961a52fc",
   "metadata": {},
   "outputs": [
    {
     "name": "stdout",
     "output_type": "stream",
     "text": [
      "Sum: 15\n",
      "Mean: 3.0\n"
     ]
    }
   ],
   "source": [
    "import pandas as pd\n",
    "\n",
    "# Create a Pandas Series\n",
    "data = pd.Series([1, 2, 3, 4, 5])\n",
    "\n",
    "# Aggregate using sum\n",
    "total = data.sum()\n",
    "\n",
    "print(\"Sum:\", total)\n",
    "\n",
    "# Aggregate using mean\n",
    "average = data.mean()\n",
    "\n",
    "print(\"Mean:\", average)\n"
   ]
  },
  {
   "cell_type": "markdown",
   "id": "c426d1fb",
   "metadata": {},
   "source": [
    "# Example 2: Aggregating a DataFrame Column"
   ]
  },
  {
   "cell_type": "code",
   "execution_count": 2,
   "id": "3cb90726",
   "metadata": {},
   "outputs": [
    {
     "name": "stdout",
     "output_type": "stream",
     "text": [
      "Sum of Column A: 15\n",
      "Mean of Column B: 30.0\n"
     ]
    }
   ],
   "source": [
    "import pandas as pd\n",
    "\n",
    "# Create a DataFrame\n",
    "df = pd.DataFrame({\n",
    "    'A': [1, 2, 3, 4, 5],\n",
    "    'B': [10, 20, 30, 40, 50]\n",
    "})\n",
    "\n",
    "# Aggregate column 'A' using sum\n",
    "total_A = df['A'].sum()\n",
    "\n",
    "print(\"Sum of Column A:\", total_A)\n",
    "\n",
    "# Aggregate column 'B' using mean\n",
    "average_B = df['B'].mean()\n",
    "\n",
    "print(\"Mean of Column B:\", average_B)\n"
   ]
  },
  {
   "cell_type": "markdown",
   "id": "9879207d",
   "metadata": {},
   "source": [
    "# Example 3: Aggregating Multiple Columns in a DataFrame"
   ]
  },
  {
   "cell_type": "code",
   "execution_count": 3,
   "id": "3df6b651",
   "metadata": {},
   "outputs": [
    {
     "name": "stdout",
     "output_type": "stream",
     "text": [
      "           A     B    C\n",
      "sum     15.0   NaN  NaN\n",
      "min      1.0   NaN  NaN\n",
      "max      NaN  50.0  NaN\n",
      "mean     NaN  30.0  NaN\n",
      "median   NaN   NaN  3.0\n"
     ]
    }
   ],
   "source": [
    "import pandas as pd\n",
    "\n",
    "# Create a DataFrame\n",
    "df = pd.DataFrame({\n",
    "    'A': [1, 2, 3, 4, 5],\n",
    "    'B': [10, 20, 30, 40, 50],\n",
    "    'C': [5, 4, 3, 2, 1]\n",
    "})\n",
    "\n",
    "# Aggregate using multiple functions\n",
    "result = df.aggregate({\n",
    "    'A': ['sum', 'min'],\n",
    "    'B': ['max', 'mean'],\n",
    "    'C': ['median']\n",
    "})\n",
    "\n",
    "print(result)\n"
   ]
  },
  {
   "cell_type": "code",
   "execution_count": 4,
   "id": "afb72c5b",
   "metadata": {},
   "outputs": [],
   "source": [
    "# df.aggregate()"
   ]
  },
  {
   "cell_type": "markdown",
   "id": "89e0fed5",
   "metadata": {},
   "source": [
    "Pandas provides a variety of methods for aggregation, allowing for comprehensive data analysis and summarization. Here's a list of common aggregation methods available in Pandas:\n",
    "\n",
    "1. count(): Counts the number of non-NA/null observations.\n",
    "2. sum(): Sums up the values.\n",
    "3. mean(): Computes the mean of the values.\n",
    "4. median(): Finds the median of the values.\n",
    "5. min(): Identifies the minimum value.\n",
    "6. max(): Identifies the maximum value.\n",
    "7. std(): Calculates the standard deviation of the values.\n",
    "8. var(): Calculates the variance of the values.\n",
    "9. sem(): Calculates the standard error of the mean of the values.\n",
    "10. mad(): Computes the mean absolute deviation from the mean.\n",
    "11. prod(): Computes the product of the values.\n",
    "12. first(): Returns the first item.\n",
    "13. last(): Returns the last item.\n",
    "14. quantile(q): Computes the qth quantile of the data for given q (0 <= q <= 1).\n",
    "15. mode(): Finds the mode(s) of the dataset.\n",
    "16. abs(): Takes the absolute value of all data.\n",
    "17. cumsum(): Computes the cumulative sum of the data.\n",
    "18. cumprod(): Computes the cumulative product of the data.\n",
    "19. cummax(): Computes the cumulative maximum of the data.\n",
    "20. cummin(): Computes the cumulative minimum of the data.\n",
    "21. nunique(): Counts the number of unique non-NA/null values.\n",
    "22. describe(): Generates descriptive statistics that summarize the central tendency, dispersion, and shape of a dataset's distribution."
   ]
  },
  {
   "cell_type": "markdown",
   "id": "4bd7934e",
   "metadata": {},
   "source": [
    "# Pandas groupby"
   ]
  },
  {
   "cell_type": "markdown",
   "id": "84da706f",
   "metadata": {},
   "source": [
    "The groupby operation in Pandas is a powerful tool for grouping data based on some criteria, and then applying a function to each group independently. This operation allows for complex data transformations and analyses. The process of groupby typically involves splitting the data into groups based on some criteria, applying a function to each group, and then combining the results into a data structure."
   ]
  },
  {
   "attachments": {
    "groupby.png": {
     "image/png": "[encoded data removed]"
    }
   },
   "cell_type": "markdown",
   "id": "ec0c337b",
   "metadata": {},
   "source": [
    "![groupby.png](attachment:groupby.png)"
   ]
  },
  {
   "cell_type": "markdown",
   "id": "75e01a9d",
   "metadata": {},
   "source": [
    "# Example 1: Basic Grouping and Aggregation"
   ]
  },
  {
   "cell_type": "code",
   "execution_count": 7,
   "id": "bf2d3a4f",
   "metadata": {},
   "outputs": [
    {
     "name": "stdout",
     "output_type": "stream",
     "text": [
      "Category\n",
      "A    400\n",
      "B    450\n",
      "C    700\n",
      "Name: Sales, dtype: int64\n"
     ]
    }
   ],
   "source": [
    "import pandas as pd\n",
    "\n",
    "# Sample DataFrame\n",
    "data = {\n",
    "    'Category': ['A', 'B', 'A', 'C', 'B', 'A', 'C', 'A'],\n",
    "    'Sales': [100, 200, 150, 300, 250, 50, 400, 100]\n",
    "}\n",
    "df = pd.DataFrame(data)\n",
    "\n",
    "# Group by 'Category' and sum 'Sales'\n",
    "grouped = df.groupby('Category')['Sales'].sum()\n",
    "\n",
    "print(grouped)\n"
   ]
  },
  {
   "cell_type": "code",
   "execution_count": 13,
   "id": "81449703",
   "metadata": {},
   "outputs": [],
   "source": [
    "groupedtest = df.groupby('Category')"
   ]
  },
  {
   "cell_type": "code",
   "execution_count": 15,
   "id": "d4369db8",
   "metadata": {},
   "outputs": [
    {
     "data": {
      "text/plain": [
       "[('A',\n",
       "    Category  Sales\n",
       "  0        A    100\n",
       "  2        A    150\n",
       "  5        A     50\n",
       "  7        A    100),\n",
       " ('B',\n",
       "    Category  Sales\n",
       "  1        B    200\n",
       "  4        B    250),\n",
       " ('C',\n",
       "    Category  Sales\n",
       "  3        C    300\n",
       "  6        C    400)]"
      ]
     },
     "execution_count": 15,
     "metadata": {},
     "output_type": "execute_result"
    }
   ],
   "source": [
    "list(groupedtest)"
   ]
  },
  {
   "cell_type": "code",
   "execution_count": 17,
   "id": "7c8f2e4b",
   "metadata": {},
   "outputs": [
    {
     "data": {
      "text/plain": [
       "[('A',\n",
       "  0    100\n",
       "  2    150\n",
       "  5     50\n",
       "  7    100\n",
       "  Name: Sales, dtype: int64),\n",
       " ('B',\n",
       "  1    200\n",
       "  4    250\n",
       "  Name: Sales, dtype: int64),\n",
       " ('C',\n",
       "  3    300\n",
       "  6    400\n",
       "  Name: Sales, dtype: int64)]"
      ]
     },
     "execution_count": 17,
     "metadata": {},
     "output_type": "execute_result"
    }
   ],
   "source": [
    "list(groupedtest.Sales)"
   ]
  },
  {
   "cell_type": "markdown",
   "id": "0db0a24a",
   "metadata": {},
   "source": [
    "# Example 2: Multiple Aggregations on Single Column"
   ]
  },
  {
   "cell_type": "code",
   "execution_count": 18,
   "id": "399dcdca",
   "metadata": {},
   "outputs": [
    {
     "name": "stdout",
     "output_type": "stream",
     "text": [
      "          sum   mean\n",
      "Category            \n",
      "A         400  100.0\n",
      "B         450  225.0\n",
      "C         700  350.0\n"
     ]
    }
   ],
   "source": [
    "# Group by 'Category' and apply multiple aggregation functions to 'Sales'\n",
    "grouped = df.groupby('Category')['Sales'].agg(['sum', 'mean'])\n",
    "\n",
    "print(grouped)\n"
   ]
  },
  {
   "cell_type": "markdown",
   "id": "36d01f2e",
   "metadata": {},
   "source": [
    "# Example 3: Grouping by Multiple Columns"
   ]
  },
  {
   "cell_type": "code",
   "execution_count": 19,
   "id": "2f4a8392",
   "metadata": {},
   "outputs": [
    {
     "name": "stdout",
     "output_type": "stream",
     "text": [
      "Category  Year\n",
      "A         2020    100\n",
      "          2021    300\n",
      "B         2020    200\n",
      "          2021    250\n",
      "C         2020    700\n",
      "Name: Sales, dtype: int64\n"
     ]
    }
   ],
   "source": [
    "# Adding a 'Year' column to the DataFrame\n",
    "df['Year'] = [2020, 2020, 2021, 2020, 2021, 2021, 2020, 2021]\n",
    "\n",
    "# Group by 'Category' and 'Year', then sum 'Sales'\n",
    "grouped = df.groupby(['Category', 'Year'])['Sales'].sum()\n",
    "\n",
    "print(grouped)\n"
   ]
  },
  {
   "cell_type": "code",
   "execution_count": 21,
   "id": "1d386cf3",
   "metadata": {},
   "outputs": [],
   "source": [
    "# This groups the data first by 'Category' and then by 'Year' \n",
    "#within each category, calculating the sum of 'Sales' for each group."
   ]
  },
  {
   "cell_type": "markdown",
   "id": "c2e88ed0",
   "metadata": {},
   "source": [
    "# Example 4: Aggregating Multiple Columns"
   ]
  },
  {
   "cell_type": "code",
   "execution_count": 22,
   "id": "35f66dbc",
   "metadata": {},
   "outputs": [
    {
     "name": "stdout",
     "output_type": "stream",
     "text": [
      "          Sales  Discount\n",
      "Category                 \n",
      "A           400       5.0\n",
      "B           450      10.0\n",
      "C           700      17.5\n"
     ]
    }
   ],
   "source": [
    "# Adding a 'Discount' column to the DataFrame\n",
    "df['Discount'] = [5, 10, 5, 15, 10, 5, 20, 5]\n",
    "\n",
    "# Group by 'Category' and apply different aggregations to 'Sales' and 'Discount'\n",
    "grouped = df.groupby('Category').agg({'Sales': 'sum', 'Discount': 'mean'})\n",
    "\n",
    "print(grouped)\n"
   ]
  },
  {
   "cell_type": "code",
   "execution_count": 23,
   "id": "ef2ae681",
   "metadata": {},
   "outputs": [],
   "source": [
    "# Practice using samplesuper store dataset"
   ]
  },
  {
   "cell_type": "code",
   "execution_count": 24,
   "id": "3acb2339",
   "metadata": {},
   "outputs": [
    {
     "name": "stderr",
     "output_type": "stream",
     "text": [
      "C:\\Users\\imran\\anaconda3\\lib\\site-packages\\openpyxl\\worksheet\\header_footer.py:48: UserWarning: Cannot parse header or footer so it will be ignored\n",
      "  warn(\"\"\"Cannot parse header or footer so it will be ignored\"\"\")\n"
     ]
    },
    {
     "data": {
      "text/html": [
       "<div>\n",
       "<style scoped>\n",
       "    .dataframe tbody tr th:only-of-type {\n",
       "        vertical-align: middle;\n",
       "    }\n",
       "\n",
       "    .dataframe tbody tr th {\n",
       "        vertical-align: top;\n",
       "    }\n",
       "\n",
       "    .dataframe thead th {\n",
       "        text-align: right;\n",
       "    }\n",
       "</style>\n",
       "<table border=\"1\" class=\"dataframe\">\n",
       "  <thead>\n",
       "    <tr style=\"text-align: right;\">\n",
       "      <th></th>\n",
       "      <th>Row ID</th>\n",
       "      <th>Order ID</th>\n",
       "      <th>Order Date</th>\n",
       "      <th>Ship Date</th>\n",
       "      <th>Ship Mode</th>\n",
       "      <th>Customer ID</th>\n",
       "      <th>Customer Name</th>\n",
       "      <th>Segment</th>\n",
       "      <th>Country/Region</th>\n",
       "      <th>City</th>\n",
       "      <th>...</th>\n",
       "      <th>Postal Code</th>\n",
       "      <th>Region</th>\n",
       "      <th>Product ID</th>\n",
       "      <th>Category</th>\n",
       "      <th>Sub-Category</th>\n",
       "      <th>Product Name</th>\n",
       "      <th>Sales</th>\n",
       "      <th>Quantity</th>\n",
       "      <th>Discount</th>\n",
       "      <th>Profit</th>\n",
       "    </tr>\n",
       "  </thead>\n",
       "  <tbody>\n",
       "    <tr>\n",
       "      <th>0</th>\n",
       "      <td>1</td>\n",
       "      <td>CA-2018-152156</td>\n",
       "      <td>2018-11-08</td>\n",
       "      <td>2018-11-11</td>\n",
       "      <td>Second Class</td>\n",
       "      <td>CG-12520</td>\n",
       "      <td>Claire Gute</td>\n",
       "      <td>Consumer</td>\n",
       "      <td>United States</td>\n",
       "      <td>Henderson</td>\n",
       "      <td>...</td>\n",
       "      <td>42420.0</td>\n",
       "      <td>South</td>\n",
       "      <td>FUR-BO-10001798</td>\n",
       "      <td>Furniture</td>\n",
       "      <td>Bookcases</td>\n",
       "      <td>Bush Somerset Collection Bookcase</td>\n",
       "      <td>261.9600</td>\n",
       "      <td>2</td>\n",
       "      <td>0.00</td>\n",
       "      <td>41.9136</td>\n",
       "    </tr>\n",
       "    <tr>\n",
       "      <th>1</th>\n",
       "      <td>2</td>\n",
       "      <td>CA-2018-152156</td>\n",
       "      <td>2018-11-08</td>\n",
       "      <td>2018-11-11</td>\n",
       "      <td>Second Class</td>\n",
       "      <td>CG-12520</td>\n",
       "      <td>Claire Gute</td>\n",
       "      <td>Consumer</td>\n",
       "      <td>United States</td>\n",
       "      <td>Henderson</td>\n",
       "      <td>...</td>\n",
       "      <td>42420.0</td>\n",
       "      <td>South</td>\n",
       "      <td>FUR-CH-10000454</td>\n",
       "      <td>Furniture</td>\n",
       "      <td>Chairs</td>\n",
       "      <td>Hon Deluxe Fabric Upholstered Stacking Chairs,...</td>\n",
       "      <td>731.9400</td>\n",
       "      <td>3</td>\n",
       "      <td>0.00</td>\n",
       "      <td>219.5820</td>\n",
       "    </tr>\n",
       "    <tr>\n",
       "      <th>2</th>\n",
       "      <td>3</td>\n",
       "      <td>CA-2018-138688</td>\n",
       "      <td>2018-06-12</td>\n",
       "      <td>2018-06-16</td>\n",
       "      <td>Second Class</td>\n",
       "      <td>DV-13045</td>\n",
       "      <td>Darrin Van Huff</td>\n",
       "      <td>Corporate</td>\n",
       "      <td>United States</td>\n",
       "      <td>Los Angeles</td>\n",
       "      <td>...</td>\n",
       "      <td>90036.0</td>\n",
       "      <td>West</td>\n",
       "      <td>OFF-LA-10000240</td>\n",
       "      <td>Office Supplies</td>\n",
       "      <td>Labels</td>\n",
       "      <td>Self-Adhesive Address Labels for Typewriters b...</td>\n",
       "      <td>14.6200</td>\n",
       "      <td>2</td>\n",
       "      <td>0.00</td>\n",
       "      <td>6.8714</td>\n",
       "    </tr>\n",
       "    <tr>\n",
       "      <th>3</th>\n",
       "      <td>4</td>\n",
       "      <td>US-2017-108966</td>\n",
       "      <td>2017-10-11</td>\n",
       "      <td>2017-10-18</td>\n",
       "      <td>Standard Class</td>\n",
       "      <td>SO-20335</td>\n",
       "      <td>Sean O'Donnell</td>\n",
       "      <td>Consumer</td>\n",
       "      <td>United States</td>\n",
       "      <td>Fort Lauderdale</td>\n",
       "      <td>...</td>\n",
       "      <td>33311.0</td>\n",
       "      <td>South</td>\n",
       "      <td>FUR-TA-10000577</td>\n",
       "      <td>Furniture</td>\n",
       "      <td>Tables</td>\n",
       "      <td>Bretford CR4500 Series Slim Rectangular Table</td>\n",
       "      <td>957.5775</td>\n",
       "      <td>5</td>\n",
       "      <td>0.45</td>\n",
       "      <td>-383.0310</td>\n",
       "    </tr>\n",
       "    <tr>\n",
       "      <th>4</th>\n",
       "      <td>5</td>\n",
       "      <td>US-2017-108966</td>\n",
       "      <td>2017-10-11</td>\n",
       "      <td>2017-10-18</td>\n",
       "      <td>Standard Class</td>\n",
       "      <td>SO-20335</td>\n",
       "      <td>Sean O'Donnell</td>\n",
       "      <td>Consumer</td>\n",
       "      <td>United States</td>\n",
       "      <td>Fort Lauderdale</td>\n",
       "      <td>...</td>\n",
       "      <td>33311.0</td>\n",
       "      <td>South</td>\n",
       "      <td>OFF-ST-10000760</td>\n",
       "      <td>Office Supplies</td>\n",
       "      <td>Storage</td>\n",
       "      <td>Eldon Fold 'N Roll Cart System</td>\n",
       "      <td>22.3680</td>\n",
       "      <td>2</td>\n",
       "      <td>0.20</td>\n",
       "      <td>2.5164</td>\n",
       "    </tr>\n",
       "  </tbody>\n",
       "</table>\n",
       "<p>5 rows × 21 columns</p>\n",
       "</div>"
      ],
      "text/plain": [
       "   Row ID        Order ID Order Date  Ship Date       Ship Mode Customer ID  \\\n",
       "0       1  CA-2018-152156 2018-11-08 2018-11-11    Second Class    CG-12520   \n",
       "1       2  CA-2018-152156 2018-11-08 2018-11-11    Second Class    CG-12520   \n",
       "2       3  CA-2018-138688 2018-06-12 2018-06-16    Second Class    DV-13045   \n",
       "3       4  US-2017-108966 2017-10-11 2017-10-18  Standard Class    SO-20335   \n",
       "4       5  US-2017-108966 2017-10-11 2017-10-18  Standard Class    SO-20335   \n",
       "\n",
       "     Customer Name    Segment Country/Region             City  ...  \\\n",
       "0      Claire Gute   Consumer  United States        Henderson  ...   \n",
       "1      Claire Gute   Consumer  United States        Henderson  ...   \n",
       "2  Darrin Van Huff  Corporate  United States      Los Angeles  ...   \n",
       "3   Sean O'Donnell   Consumer  United States  Fort Lauderdale  ...   \n",
       "4   Sean O'Donnell   Consumer  United States  Fort Lauderdale  ...   \n",
       "\n",
       "  Postal Code  Region       Product ID         Category Sub-Category  \\\n",
       "0     42420.0   South  FUR-BO-10001798        Furniture    Bookcases   \n",
       "1     42420.0   South  FUR-CH-10000454        Furniture       Chairs   \n",
       "2     90036.0    West  OFF-LA-10000240  Office Supplies       Labels   \n",
       "3     33311.0   South  FUR-TA-10000577        Furniture       Tables   \n",
       "4     33311.0   South  OFF-ST-10000760  Office Supplies      Storage   \n",
       "\n",
       "                                        Product Name     Sales  Quantity  \\\n",
       "0                  Bush Somerset Collection Bookcase  261.9600         2   \n",
       "1  Hon Deluxe Fabric Upholstered Stacking Chairs,...  731.9400         3   \n",
       "2  Self-Adhesive Address Labels for Typewriters b...   14.6200         2   \n",
       "3      Bretford CR4500 Series Slim Rectangular Table  957.5775         5   \n",
       "4                     Eldon Fold 'N Roll Cart System   22.3680         2   \n",
       "\n",
       "   Discount    Profit  \n",
       "0      0.00   41.9136  \n",
       "1      0.00  219.5820  \n",
       "2      0.00    6.8714  \n",
       "3      0.45 -383.0310  \n",
       "4      0.20    2.5164  \n",
       "\n",
       "[5 rows x 21 columns]"
      ]
     },
     "execution_count": 24,
     "metadata": {},
     "output_type": "execute_result"
    }
   ],
   "source": [
    "import pandas as pd\n",
    "\n",
    "# Load the dataset\n",
    "file_path = 'SampleSuperstore.xlsx'\n",
    "data = pd.read_excel(file_path)\n",
    "\n",
    "# Display the first few rows of the dataframe to understand its structure\n",
    "data.head()\n"
   ]
  },
  {
   "cell_type": "markdown",
   "id": "255c4733",
   "metadata": {},
   "source": [
    "Let's perform some groupby and aggregation operations to analyze this data:\n",
    "\n",
    "1. Total Sales by Category: We'll calculate the total sales for each product category.\n",
    "2. Average Profit by Sub-Category: We'll find the average profit for each sub-category.\n",
    "3. Total Quantity Sold by Region: We'll sum up the total quantity of products sold in each region.\n",
    "4. Average Discount by Segment: We'll compute the average discount given in each customer segment."
   ]
  },
  {
   "cell_type": "code",
   "execution_count": 25,
   "id": "52848347",
   "metadata": {},
   "outputs": [
    {
     "data": {
      "text/plain": [
       "(Category\n",
       " Furniture          741999.7953\n",
       " Office Supplies    719047.0320\n",
       " Technology         836154.0330\n",
       " Name: Sales, dtype: float64,\n",
       " Sub-Category\n",
       " Accessories     54.111788\n",
       " Appliances      38.922758\n",
       " Art              8.200737\n",
       " Binders         19.843574\n",
       " Bookcases      -15.230509\n",
       " Chairs          43.095894\n",
       " Copiers        817.909190\n",
       " Envelopes       27.418019\n",
       " Fasteners        4.375660\n",
       " Furnishings     13.645918\n",
       " Labels          15.236962\n",
       " Machines        29.432669\n",
       " Paper           24.856620\n",
       " Phones          50.073938\n",
       " Storage         25.152277\n",
       " Supplies        -6.258418\n",
       " Tables         -55.565771\n",
       " Name: Profit, dtype: float64,\n",
       " Region\n",
       " Central     8780\n",
       " East       10618\n",
       " South       6209\n",
       " West       12266\n",
       " Name: Quantity, dtype: int64,\n",
       " Segment\n",
       " Consumer       0.158141\n",
       " Corporate      0.158228\n",
       " Home Office    0.147128\n",
       " Name: Discount, dtype: float64)"
      ]
     },
     "execution_count": 25,
     "metadata": {},
     "output_type": "execute_result"
    }
   ],
   "source": [
    "# Total Sales by Category\n",
    "total_sales_by_category = data.groupby('Category')['Sales'].sum()\n",
    "\n",
    "# Average Profit by Sub-Category\n",
    "average_profit_by_subcategory = data.groupby('Sub-Category')['Profit'].mean()\n",
    "\n",
    "# Total Quantity Sold by Region\n",
    "total_quantity_by_region = data.groupby('Region')['Quantity'].sum()\n",
    "\n",
    "# Average Discount by Segment\n",
    "average_discount_by_segment = data.groupby('Segment')['Discount'].mean()\n",
    "\n",
    "# Display the results\n",
    "total_sales_by_category, average_profit_by_subcategory, total_quantity_by_region, average_discount_by_segment\n"
   ]
  },
  {
   "cell_type": "code",
   "execution_count": 26,
   "id": "7288086b",
   "metadata": {},
   "outputs": [
    {
     "data": {
      "text/plain": [
       "Category\n",
       "Furniture          741999.7953\n",
       "Office Supplies    719047.0320\n",
       "Technology         836154.0330\n",
       "Name: Sales, dtype: float64"
      ]
     },
     "execution_count": 26,
     "metadata": {},
     "output_type": "execute_result"
    }
   ],
   "source": [
    "total_sales_by_category "
   ]
  },
  {
   "cell_type": "code",
   "execution_count": 27,
   "id": "ebf3790c",
   "metadata": {},
   "outputs": [
    {
     "data": {
      "text/plain": [
       "Sub-Category\n",
       "Accessories     54.111788\n",
       "Appliances      38.922758\n",
       "Art              8.200737\n",
       "Binders         19.843574\n",
       "Bookcases      -15.230509\n",
       "Chairs          43.095894\n",
       "Copiers        817.909190\n",
       "Envelopes       27.418019\n",
       "Fasteners        4.375660\n",
       "Furnishings     13.645918\n",
       "Labels          15.236962\n",
       "Machines        29.432669\n",
       "Paper           24.856620\n",
       "Phones          50.073938\n",
       "Storage         25.152277\n",
       "Supplies        -6.258418\n",
       "Tables         -55.565771\n",
       "Name: Profit, dtype: float64"
      ]
     },
     "execution_count": 27,
     "metadata": {},
     "output_type": "execute_result"
    }
   ],
   "source": [
    "average_profit_by_subcategory "
   ]
  },
  {
   "cell_type": "code",
   "execution_count": 28,
   "id": "a6372c01",
   "metadata": {},
   "outputs": [
    {
     "data": {
      "text/plain": [
       "Region\n",
       "Central     8780\n",
       "East       10618\n",
       "South       6209\n",
       "West       12266\n",
       "Name: Quantity, dtype: int64"
      ]
     },
     "execution_count": 28,
     "metadata": {},
     "output_type": "execute_result"
    }
   ],
   "source": [
    "total_quantity_by_region "
   ]
  },
  {
   "cell_type": "code",
   "execution_count": 29,
   "id": "70dc410b",
   "metadata": {},
   "outputs": [
    {
     "data": {
      "text/plain": [
       "Segment\n",
       "Consumer       0.158141\n",
       "Corporate      0.158228\n",
       "Home Office    0.147128\n",
       "Name: Discount, dtype: float64"
      ]
     },
     "execution_count": 29,
     "metadata": {},
     "output_type": "execute_result"
    }
   ],
   "source": [
    "average_discount_by_segment"
   ]
  },
  {
   "cell_type": "markdown",
   "id": "cc829e1e",
   "metadata": {},
   "source": [
    "# Pivot tables in Pandas "
   ]
  },
  {
   "cell_type": "markdown",
   "id": "bc3d7e22",
   "metadata": {},
   "source": [
    "Pivot tables in Pandas are powerful tools that allow for summarizing, analyzing, sorting, and reorganizing data in a DataFrame. Inspired by Excel pivot tables, they provide a way to aggregate and dissect data across multiple dimensions, enabling users to extract significant insights and trends from complex datasets."
   ]
  },
  {
   "cell_type": "code",
   "execution_count": 30,
   "id": "febdf6c9",
   "metadata": {},
   "outputs": [],
   "source": [
    "import pandas as pd\n",
    "\n",
    "data = {\n",
    "    'Date': ['2020-01-01', '2020-01-01', '2020-01-02', '2020-01-02'],\n",
    "    'Product': ['A', 'B', 'A', 'B'],\n",
    "    'Sales': [100, 200, 150, 250]\n",
    "}\n",
    "\n",
    "df = pd.DataFrame(data)\n"
   ]
  },
  {
   "cell_type": "code",
   "execution_count": 31,
   "id": "faab684a",
   "metadata": {},
   "outputs": [],
   "source": [
    "pivot_table = df.pivot_table(values='Sales', index='Date', columns='Product', aggfunc='sum')\n"
   ]
  },
  {
   "cell_type": "code",
   "execution_count": 32,
   "id": "81096256",
   "metadata": {},
   "outputs": [
    {
     "data": {
      "text/html": [
       "<div>\n",
       "<style scoped>\n",
       "    .dataframe tbody tr th:only-of-type {\n",
       "        vertical-align: middle;\n",
       "    }\n",
       "\n",
       "    .dataframe tbody tr th {\n",
       "        vertical-align: top;\n",
       "    }\n",
       "\n",
       "    .dataframe thead th {\n",
       "        text-align: right;\n",
       "    }\n",
       "</style>\n",
       "<table border=\"1\" class=\"dataframe\">\n",
       "  <thead>\n",
       "    <tr style=\"text-align: right;\">\n",
       "      <th>Product</th>\n",
       "      <th>A</th>\n",
       "      <th>B</th>\n",
       "    </tr>\n",
       "    <tr>\n",
       "      <th>Date</th>\n",
       "      <th></th>\n",
       "      <th></th>\n",
       "    </tr>\n",
       "  </thead>\n",
       "  <tbody>\n",
       "    <tr>\n",
       "      <th>2020-01-01</th>\n",
       "      <td>100</td>\n",
       "      <td>200</td>\n",
       "    </tr>\n",
       "    <tr>\n",
       "      <th>2020-01-02</th>\n",
       "      <td>150</td>\n",
       "      <td>250</td>\n",
       "    </tr>\n",
       "  </tbody>\n",
       "</table>\n",
       "</div>"
      ],
      "text/plain": [
       "Product       A    B\n",
       "Date                \n",
       "2020-01-01  100  200\n",
       "2020-01-02  150  250"
      ]
     },
     "execution_count": 32,
     "metadata": {},
     "output_type": "execute_result"
    }
   ],
   "source": [
    "pivot_table"
   ]
  },
  {
   "cell_type": "code",
   "execution_count": 34,
   "id": "d27a3784",
   "metadata": {},
   "outputs": [
    {
     "name": "stdout",
     "output_type": "stream",
     "text": [
      "Product    A    B\n",
      "Region           \n",
      "East     100  150\n",
      "West     200  250\n"
     ]
    }
   ],
   "source": [
    "import pandas as pd\n",
    "\n",
    "# Sample data\n",
    "data = {\n",
    "    'Date': ['2020-01-01', '2020-01-02', '2020-01-02', '2020-01-03'],\n",
    "    'Product': ['A', 'A', 'B', 'B'],\n",
    "    'Region': ['East', 'West', 'East', 'West'],\n",
    "    'Sales': [100, 200, 150, 250]\n",
    "}\n",
    "df = pd.DataFrame(data)\n",
    "\n",
    "# Create a pivot table\n",
    "pivot_table = pd.pivot_table(df, values='Sales', index='Region', columns='Product', aggfunc='sum')\n",
    "\n",
    "print(pivot_table)\n"
   ]
  },
  {
   "cell_type": "code",
   "execution_count": 35,
   "id": "56d78c09",
   "metadata": {},
   "outputs": [],
   "source": [
    "pivot_table = df.pivot_table(values='Sales', index=['Date', 'Region'], columns='Product', aggfunc='sum', margins=True)\n"
   ]
  },
  {
   "cell_type": "code",
   "execution_count": 36,
   "id": "6b43436d",
   "metadata": {},
   "outputs": [
    {
     "data": {
      "text/html": [
       "<div>\n",
       "<style scoped>\n",
       "    .dataframe tbody tr th:only-of-type {\n",
       "        vertical-align: middle;\n",
       "    }\n",
       "\n",
       "    .dataframe tbody tr th {\n",
       "        vertical-align: top;\n",
       "    }\n",
       "\n",
       "    .dataframe thead th {\n",
       "        text-align: right;\n",
       "    }\n",
       "</style>\n",
       "<table border=\"1\" class=\"dataframe\">\n",
       "  <thead>\n",
       "    <tr style=\"text-align: right;\">\n",
       "      <th></th>\n",
       "      <th>Product</th>\n",
       "      <th>A</th>\n",
       "      <th>B</th>\n",
       "      <th>All</th>\n",
       "    </tr>\n",
       "    <tr>\n",
       "      <th>Date</th>\n",
       "      <th>Region</th>\n",
       "      <th></th>\n",
       "      <th></th>\n",
       "      <th></th>\n",
       "    </tr>\n",
       "  </thead>\n",
       "  <tbody>\n",
       "    <tr>\n",
       "      <th>2020-01-01</th>\n",
       "      <th>East</th>\n",
       "      <td>100.0</td>\n",
       "      <td>NaN</td>\n",
       "      <td>100</td>\n",
       "    </tr>\n",
       "    <tr>\n",
       "      <th rowspan=\"2\" valign=\"top\">2020-01-02</th>\n",
       "      <th>East</th>\n",
       "      <td>NaN</td>\n",
       "      <td>150.0</td>\n",
       "      <td>150</td>\n",
       "    </tr>\n",
       "    <tr>\n",
       "      <th>West</th>\n",
       "      <td>200.0</td>\n",
       "      <td>NaN</td>\n",
       "      <td>200</td>\n",
       "    </tr>\n",
       "    <tr>\n",
       "      <th>2020-01-03</th>\n",
       "      <th>West</th>\n",
       "      <td>NaN</td>\n",
       "      <td>250.0</td>\n",
       "      <td>250</td>\n",
       "    </tr>\n",
       "    <tr>\n",
       "      <th>All</th>\n",
       "      <th></th>\n",
       "      <td>300.0</td>\n",
       "      <td>400.0</td>\n",
       "      <td>700</td>\n",
       "    </tr>\n",
       "  </tbody>\n",
       "</table>\n",
       "</div>"
      ],
      "text/plain": [
       "Product                A      B  All\n",
       "Date       Region                   \n",
       "2020-01-01 East    100.0    NaN  100\n",
       "2020-01-02 East      NaN  150.0  150\n",
       "           West    200.0    NaN  200\n",
       "2020-01-03 West      NaN  250.0  250\n",
       "All                300.0  400.0  700"
      ]
     },
     "execution_count": 36,
     "metadata": {},
     "output_type": "execute_result"
    }
   ],
   "source": [
    "pivot_table"
   ]
  },
  {
   "cell_type": "code",
   "execution_count": 37,
   "id": "c58e319a",
   "metadata": {},
   "outputs": [
    {
     "name": "stderr",
     "output_type": "stream",
     "text": [
      "C:\\Users\\imran\\anaconda3\\lib\\site-packages\\openpyxl\\worksheet\\header_footer.py:48: UserWarning: Cannot parse header or footer so it will be ignored\n",
      "  warn(\"\"\"Cannot parse header or footer so it will be ignored\"\"\")\n"
     ]
    }
   ],
   "source": [
    "import pandas as pd\n",
    "\n",
    "# Load the dataset\n",
    "file_path = 'SampleSuperstore.xlsx'\n",
    "data = pd.read_excel(file_path)"
   ]
  },
  {
   "cell_type": "code",
   "execution_count": 38,
   "id": "06ed779e",
   "metadata": {},
   "outputs": [
    {
     "data": {
      "text/plain": [
       "(Region               Central        East       South         West\n",
       " Category                                                         \n",
       " Furniture        163797.1638  208291.204  117298.684  252612.7435\n",
       " Office Supplies  167026.4150  205516.055  125651.313  220853.2490\n",
       " Technology       170416.3120  264973.981  148771.908  251991.8320,\n",
       " Segment         Consumer   Corporate  Home Office\n",
       " Sub-Category                                     \n",
       " Accessories    50.823339   55.980090    60.665948\n",
       " Appliances     28.614460   47.934808    55.614657\n",
       " Art             8.070797    9.195632     7.125588\n",
       " Binders        23.071278   13.482706    21.662393\n",
       " Bookcases     -33.859834    9.975784     9.837333\n",
       " Chairs         40.228972   44.386471    50.101779\n",
       " Copiers       688.106017  949.513945   964.910415\n",
       " Envelopes      25.305524   30.609869    27.525246\n",
       " Fasteners       5.059656    4.269542     2.745782\n",
       " Furnishings    16.031220   12.181277     9.322933\n",
       " Labels         16.275071   17.263013     9.718333\n",
       " Machines       37.562488   20.086257    23.507657\n",
       " Paper          22.416513   25.395948    30.324829\n",
       " Phones         52.853913   43.258160    53.689134\n",
       " Storage        15.787112   35.119326    37.085304\n",
       " Supplies      -16.575513    5.556170     4.466393\n",
       " Tables        -61.182628  -46.287723   -57.239717,\n",
       " Ship Mode  First Class  Same Day  Second Class  Standard Class\n",
       " Region                                                        \n",
       " Central            299       120           465            1439\n",
       " East               490       155           530            1673\n",
       " South              234        83           329             974\n",
       " West               515       185           621            1882)"
      ]
     },
     "execution_count": 38,
     "metadata": {},
     "output_type": "execute_result"
    }
   ],
   "source": [
    "# For the pivot table analysis, we'll create a few examples based on the SampleSuperstore data.\n",
    "\n",
    "# Pivot Table 1: Total Sales by Category and Region\n",
    "pivot_sales_category_region = pd.pivot_table(data, values='Sales', index='Category', columns='Region', aggfunc='sum')\n",
    "\n",
    "# Pivot Table 2: Average Profit by Sub-Category and Segment\n",
    "pivot_profit_subcategory_segment = pd.pivot_table(data, values='Profit', index='Sub-Category', columns='Segment', aggfunc='mean')\n",
    "\n",
    "# Pivot Table 3: Count of Orders by Region and Ship Mode\n",
    "pivot_count_orders_region_shipmode = pd.pivot_table(data, values='Order ID', index='Region', columns='Ship Mode', aggfunc='count')\n",
    "\n",
    "# Display the pivot tables\n",
    "pivot_sales_category_region, pivot_profit_subcategory_segment, pivot_count_orders_region_shipmode\n"
   ]
  },
  {
   "cell_type": "code",
   "execution_count": 39,
   "id": "1ce09fd8",
   "metadata": {},
   "outputs": [
    {
     "data": {
      "text/html": [
       "<div>\n",
       "<style scoped>\n",
       "    .dataframe tbody tr th:only-of-type {\n",
       "        vertical-align: middle;\n",
       "    }\n",
       "\n",
       "    .dataframe tbody tr th {\n",
       "        vertical-align: top;\n",
       "    }\n",
       "\n",
       "    .dataframe thead th {\n",
       "        text-align: right;\n",
       "    }\n",
       "</style>\n",
       "<table border=\"1\" class=\"dataframe\">\n",
       "  <thead>\n",
       "    <tr style=\"text-align: right;\">\n",
       "      <th>Region</th>\n",
       "      <th>Central</th>\n",
       "      <th>East</th>\n",
       "      <th>South</th>\n",
       "      <th>West</th>\n",
       "    </tr>\n",
       "    <tr>\n",
       "      <th>Category</th>\n",
       "      <th></th>\n",
       "      <th></th>\n",
       "      <th></th>\n",
       "      <th></th>\n",
       "    </tr>\n",
       "  </thead>\n",
       "  <tbody>\n",
       "    <tr>\n",
       "      <th>Furniture</th>\n",
       "      <td>163797.1638</td>\n",
       "      <td>208291.204</td>\n",
       "      <td>117298.684</td>\n",
       "      <td>252612.7435</td>\n",
       "    </tr>\n",
       "    <tr>\n",
       "      <th>Office Supplies</th>\n",
       "      <td>167026.4150</td>\n",
       "      <td>205516.055</td>\n",
       "      <td>125651.313</td>\n",
       "      <td>220853.2490</td>\n",
       "    </tr>\n",
       "    <tr>\n",
       "      <th>Technology</th>\n",
       "      <td>170416.3120</td>\n",
       "      <td>264973.981</td>\n",
       "      <td>148771.908</td>\n",
       "      <td>251991.8320</td>\n",
       "    </tr>\n",
       "  </tbody>\n",
       "</table>\n",
       "</div>"
      ],
      "text/plain": [
       "Region               Central        East       South         West\n",
       "Category                                                         \n",
       "Furniture        163797.1638  208291.204  117298.684  252612.7435\n",
       "Office Supplies  167026.4150  205516.055  125651.313  220853.2490\n",
       "Technology       170416.3120  264973.981  148771.908  251991.8320"
      ]
     },
     "execution_count": 39,
     "metadata": {},
     "output_type": "execute_result"
    }
   ],
   "source": [
    "pivot_sales_category_region"
   ]
  },
  {
   "cell_type": "code",
   "execution_count": 40,
   "id": "eeacdd5c",
   "metadata": {},
   "outputs": [
    {
     "data": {
      "text/html": [
       "<div>\n",
       "<style scoped>\n",
       "    .dataframe tbody tr th:only-of-type {\n",
       "        vertical-align: middle;\n",
       "    }\n",
       "\n",
       "    .dataframe tbody tr th {\n",
       "        vertical-align: top;\n",
       "    }\n",
       "\n",
       "    .dataframe thead th {\n",
       "        text-align: right;\n",
       "    }\n",
       "</style>\n",
       "<table border=\"1\" class=\"dataframe\">\n",
       "  <thead>\n",
       "    <tr style=\"text-align: right;\">\n",
       "      <th>Segment</th>\n",
       "      <th>Consumer</th>\n",
       "      <th>Corporate</th>\n",
       "      <th>Home Office</th>\n",
       "    </tr>\n",
       "    <tr>\n",
       "      <th>Sub-Category</th>\n",
       "      <th></th>\n",
       "      <th></th>\n",
       "      <th></th>\n",
       "    </tr>\n",
       "  </thead>\n",
       "  <tbody>\n",
       "    <tr>\n",
       "      <th>Accessories</th>\n",
       "      <td>50.823339</td>\n",
       "      <td>55.980090</td>\n",
       "      <td>60.665948</td>\n",
       "    </tr>\n",
       "    <tr>\n",
       "      <th>Appliances</th>\n",
       "      <td>28.614460</td>\n",
       "      <td>47.934808</td>\n",
       "      <td>55.614657</td>\n",
       "    </tr>\n",
       "    <tr>\n",
       "      <th>Art</th>\n",
       "      <td>8.070797</td>\n",
       "      <td>9.195632</td>\n",
       "      <td>7.125588</td>\n",
       "    </tr>\n",
       "    <tr>\n",
       "      <th>Binders</th>\n",
       "      <td>23.071278</td>\n",
       "      <td>13.482706</td>\n",
       "      <td>21.662393</td>\n",
       "    </tr>\n",
       "    <tr>\n",
       "      <th>Bookcases</th>\n",
       "      <td>-33.859834</td>\n",
       "      <td>9.975784</td>\n",
       "      <td>9.837333</td>\n",
       "    </tr>\n",
       "    <tr>\n",
       "      <th>Chairs</th>\n",
       "      <td>40.228972</td>\n",
       "      <td>44.386471</td>\n",
       "      <td>50.101779</td>\n",
       "    </tr>\n",
       "    <tr>\n",
       "      <th>Copiers</th>\n",
       "      <td>688.106017</td>\n",
       "      <td>949.513945</td>\n",
       "      <td>964.910415</td>\n",
       "    </tr>\n",
       "    <tr>\n",
       "      <th>Envelopes</th>\n",
       "      <td>25.305524</td>\n",
       "      <td>30.609869</td>\n",
       "      <td>27.525246</td>\n",
       "    </tr>\n",
       "    <tr>\n",
       "      <th>Fasteners</th>\n",
       "      <td>5.059656</td>\n",
       "      <td>4.269542</td>\n",
       "      <td>2.745782</td>\n",
       "    </tr>\n",
       "    <tr>\n",
       "      <th>Furnishings</th>\n",
       "      <td>16.031220</td>\n",
       "      <td>12.181277</td>\n",
       "      <td>9.322933</td>\n",
       "    </tr>\n",
       "    <tr>\n",
       "      <th>Labels</th>\n",
       "      <td>16.275071</td>\n",
       "      <td>17.263013</td>\n",
       "      <td>9.718333</td>\n",
       "    </tr>\n",
       "    <tr>\n",
       "      <th>Machines</th>\n",
       "      <td>37.562488</td>\n",
       "      <td>20.086257</td>\n",
       "      <td>23.507657</td>\n",
       "    </tr>\n",
       "    <tr>\n",
       "      <th>Paper</th>\n",
       "      <td>22.416513</td>\n",
       "      <td>25.395948</td>\n",
       "      <td>30.324829</td>\n",
       "    </tr>\n",
       "    <tr>\n",
       "      <th>Phones</th>\n",
       "      <td>52.853913</td>\n",
       "      <td>43.258160</td>\n",
       "      <td>53.689134</td>\n",
       "    </tr>\n",
       "    <tr>\n",
       "      <th>Storage</th>\n",
       "      <td>15.787112</td>\n",
       "      <td>35.119326</td>\n",
       "      <td>37.085304</td>\n",
       "    </tr>\n",
       "    <tr>\n",
       "      <th>Supplies</th>\n",
       "      <td>-16.575513</td>\n",
       "      <td>5.556170</td>\n",
       "      <td>4.466393</td>\n",
       "    </tr>\n",
       "    <tr>\n",
       "      <th>Tables</th>\n",
       "      <td>-61.182628</td>\n",
       "      <td>-46.287723</td>\n",
       "      <td>-57.239717</td>\n",
       "    </tr>\n",
       "  </tbody>\n",
       "</table>\n",
       "</div>"
      ],
      "text/plain": [
       "Segment         Consumer   Corporate  Home Office\n",
       "Sub-Category                                     \n",
       "Accessories    50.823339   55.980090    60.665948\n",
       "Appliances     28.614460   47.934808    55.614657\n",
       "Art             8.070797    9.195632     7.125588\n",
       "Binders        23.071278   13.482706    21.662393\n",
       "Bookcases     -33.859834    9.975784     9.837333\n",
       "Chairs         40.228972   44.386471    50.101779\n",
       "Copiers       688.106017  949.513945   964.910415\n",
       "Envelopes      25.305524   30.609869    27.525246\n",
       "Fasteners       5.059656    4.269542     2.745782\n",
       "Furnishings    16.031220   12.181277     9.322933\n",
       "Labels         16.275071   17.263013     9.718333\n",
       "Machines       37.562488   20.086257    23.507657\n",
       "Paper          22.416513   25.395948    30.324829\n",
       "Phones         52.853913   43.258160    53.689134\n",
       "Storage        15.787112   35.119326    37.085304\n",
       "Supplies      -16.575513    5.556170     4.466393\n",
       "Tables        -61.182628  -46.287723   -57.239717"
      ]
     },
     "execution_count": 40,
     "metadata": {},
     "output_type": "execute_result"
    }
   ],
   "source": [
    "pivot_profit_subcategory_segment"
   ]
  },
  {
   "cell_type": "code",
   "execution_count": 41,
   "id": "9c1fd505",
   "metadata": {},
   "outputs": [
    {
     "data": {
      "text/html": [
       "<div>\n",
       "<style scoped>\n",
       "    .dataframe tbody tr th:only-of-type {\n",
       "        vertical-align: middle;\n",
       "    }\n",
       "\n",
       "    .dataframe tbody tr th {\n",
       "        vertical-align: top;\n",
       "    }\n",
       "\n",
       "    .dataframe thead th {\n",
       "        text-align: right;\n",
       "    }\n",
       "</style>\n",
       "<table border=\"1\" class=\"dataframe\">\n",
       "  <thead>\n",
       "    <tr style=\"text-align: right;\">\n",
       "      <th>Ship Mode</th>\n",
       "      <th>First Class</th>\n",
       "      <th>Same Day</th>\n",
       "      <th>Second Class</th>\n",
       "      <th>Standard Class</th>\n",
       "    </tr>\n",
       "    <tr>\n",
       "      <th>Region</th>\n",
       "      <th></th>\n",
       "      <th></th>\n",
       "      <th></th>\n",
       "      <th></th>\n",
       "    </tr>\n",
       "  </thead>\n",
       "  <tbody>\n",
       "    <tr>\n",
       "      <th>Central</th>\n",
       "      <td>299</td>\n",
       "      <td>120</td>\n",
       "      <td>465</td>\n",
       "      <td>1439</td>\n",
       "    </tr>\n",
       "    <tr>\n",
       "      <th>East</th>\n",
       "      <td>490</td>\n",
       "      <td>155</td>\n",
       "      <td>530</td>\n",
       "      <td>1673</td>\n",
       "    </tr>\n",
       "    <tr>\n",
       "      <th>South</th>\n",
       "      <td>234</td>\n",
       "      <td>83</td>\n",
       "      <td>329</td>\n",
       "      <td>974</td>\n",
       "    </tr>\n",
       "    <tr>\n",
       "      <th>West</th>\n",
       "      <td>515</td>\n",
       "      <td>185</td>\n",
       "      <td>621</td>\n",
       "      <td>1882</td>\n",
       "    </tr>\n",
       "  </tbody>\n",
       "</table>\n",
       "</div>"
      ],
      "text/plain": [
       "Ship Mode  First Class  Same Day  Second Class  Standard Class\n",
       "Region                                                        \n",
       "Central            299       120           465            1439\n",
       "East               490       155           530            1673\n",
       "South              234        83           329             974\n",
       "West               515       185           621            1882"
      ]
     },
     "execution_count": 41,
     "metadata": {},
     "output_type": "execute_result"
    }
   ],
   "source": [
    "pivot_count_orders_region_shipmode"
   ]
  },
  {
   "cell_type": "code",
   "execution_count": null,
   "id": "ecaf44ff",
   "metadata": {},
   "outputs": [],
   "source": []
  },
  {
   "cell_type": "code",
   "execution_count": null,
   "id": "bc5cff46",
   "metadata": {},
   "outputs": [],
   "source": []
  }
 ],
 "metadata": {
  "kernelspec": {
   "display_name": "Python 3 (ipykernel)",
   "language": "python",
   "name": "python3"
  },
  "language_info": {
   "codemirror_mode": {
    "name": "ipython",
    "version": 3
   },
   "file_extension": ".py",
   "mimetype": "text/x-python",
   "name": "python",
   "nbconvert_exporter": "python",
   "pygments_lexer": "ipython3",
   "version": "3.9.12"
  }
 },
 "nbformat": 4,
 "nbformat_minor": 5
}
