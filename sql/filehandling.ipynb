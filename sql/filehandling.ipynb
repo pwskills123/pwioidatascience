{
 "cells": [
  {
   "cell_type": "markdown",
   "id": "cb5d6431",
   "metadata": {},
   "source": [
    "# Opening Files in Python"
   ]
  },
  {
   "cell_type": "code",
   "execution_count": 3,
   "id": "74762aee",
   "metadata": {},
   "outputs": [],
   "source": [
    "data = open(\"data1.txt\")"
   ]
  },
  {
   "cell_type": "code",
   "execution_count": 5,
   "id": "3902bfa5",
   "metadata": {},
   "outputs": [
    {
     "data": {
      "text/plain": [
       "<_io.TextIOWrapper name='data1.txt' mode='r' encoding='cp1252'>"
      ]
     },
     "execution_count": 5,
     "metadata": {},
     "output_type": "execute_result"
    }
   ],
   "source": [
    "data"
   ]
  },
  {
   "cell_type": "markdown",
   "id": "383bad61",
   "metadata": {},
   "source": [
    "# Reading Files in Python"
   ]
  },
  {
   "cell_type": "code",
   "execution_count": 17,
   "id": "05aa31a3",
   "metadata": {},
   "outputs": [
    {
     "name": "stdout",
     "output_type": "stream",
     "text": [
      "hi from pw ioi.\n",
      "Python for beginners\n",
      "\n"
     ]
    }
   ],
   "source": [
    "# open a file in read mode\n",
    "data = open(\"data1.txt\")\n",
    "\n",
    "# read the file content\n",
    "read_content = data.read()\n",
    "print(read_content)"
   ]
  },
  {
   "cell_type": "markdown",
   "id": "ba87076c",
   "metadata": {},
   "source": [
    "# Writing to Files in Python"
   ]
  },
  {
   "cell_type": "code",
   "execution_count": 22,
   "id": "8e43a3a5",
   "metadata": {},
   "outputs": [
    {
     "data": {
      "text/plain": [
       "27"
      ]
     },
     "execution_count": 22,
     "metadata": {},
     "output_type": "execute_result"
    }
   ],
   "source": [
    "# open the file2.txt in write mode\n",
    "data = open('data1.txt', 'w')\n",
    "\n",
    "# write contents to the file2.txt file\n",
    "data.write('hi from pwioi.\\n')\n",
    "data.write('data science for beginners\\n')"
   ]
  },
  {
   "cell_type": "code",
   "execution_count": 24,
   "id": "d636d685",
   "metadata": {},
   "outputs": [
    {
     "name": "stdout",
     "output_type": "stream",
     "text": [
      "hi from pwioi.\n",
      "data science for beginners\n",
      "\n"
     ]
    }
   ],
   "source": [
    "# open a file in read mode\n",
    "data = open(\"data1.txt\")\n",
    "\n",
    "# read the file content\n",
    "read_content = data.read()\n",
    "print(read_content)"
   ]
  },
  {
   "cell_type": "raw",
   "id": "717d9d9c",
   "metadata": {},
   "source": [
    "r: open an existing file for a read operation.\n",
    "w: open an existing file for a write operation. If the file already contains some data, then it will be overridden but if the file is not present then it creates the file as well.\n",
    "a:  open an existing file for append operation. It won’t override existing data.\n",
    "r+:  To read and write data into the file. The previous data in the file will be overridden.\n",
    "w+: To write and read data. It will override existing data.\n",
    "a+: To append and read data from the file. It won’t override existing data."
   ]
  },
  {
   "cell_type": "markdown",
   "id": "4f9ddc6b",
   "metadata": {},
   "source": [
    "# Closing Files in Python"
   ]
  },
  {
   "cell_type": "markdown",
   "id": "721cbb0d",
   "metadata": {},
   "source": [
    "When we are done performing operations on the file, we need to close the file properly. We use the close() function to close a file in Python"
   ]
  },
  {
   "cell_type": "code",
   "execution_count": 15,
   "id": "10a5932a",
   "metadata": {},
   "outputs": [
    {
     "name": "stdout",
     "output_type": "stream",
     "text": [
      "hi from pw ioi.\n",
      "Python for beginners\n",
      "\n"
     ]
    }
   ],
   "source": [
    "# open a file\n",
    "data = open(\"data1.txt\", \"r\")\n",
    "\n",
    "# read the file\n",
    "read_content = data.read()\n",
    "print(read_content)\n",
    "\n",
    "# close the file\n",
    "data.close()"
   ]
  },
  {
   "cell_type": "markdown",
   "id": "2ce7e226",
   "metadata": {},
   "source": [
    "Closing a file will free up the resources that are tied to the file. Hence, it is a good programming practice to always close the file."
   ]
  },
  {
   "cell_type": "markdown",
   "id": "4589673a",
   "metadata": {},
   "source": [
    "# Opening a Python File Using with...open"
   ]
  },
  {
   "cell_type": "code",
   "execution_count": 25,
   "id": "92388321",
   "metadata": {},
   "outputs": [
    {
     "name": "stdout",
     "output_type": "stream",
     "text": [
      "hi from pwioi.\n",
      "data science for beginners\n",
      "\n"
     ]
    }
   ],
   "source": [
    "with open(\"data1.txt\", \"r\") as data:\n",
    "    read_content = data.read()\n",
    "    print(read_content)"
   ]
  },
  {
   "cell_type": "markdown",
   "id": "54fb28ad",
   "metadata": {},
   "source": [
    "with...open automatically closes the file, so we don't have to use the close() function"
   ]
  },
  {
   "cell_type": "code",
   "execution_count": null,
   "id": "d51f7703",
   "metadata": {},
   "outputs": [],
   "source": []
  }
 ],
 "metadata": {
  "kernelspec": {
   "display_name": "Python 3 (ipykernel)",
   "language": "python",
   "name": "python3"
  },
  "language_info": {
   "codemirror_mode": {
    "name": "ipython",
    "version": 3
   },
   "file_extension": ".py",
   "mimetype": "text/x-python",
   "name": "python",
   "nbconvert_exporter": "python",
   "pygments_lexer": "ipython3",
   "version": "3.9.12"
  }
 },
 "nbformat": 4,
 "nbformat_minor": 5
}
