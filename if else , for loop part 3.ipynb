{
 "cells": [
  {
   "cell_type": "markdown",
   "metadata": {},
   "source": [
    "# if condition"
   ]
  },
  {
   "cell_type": "code",
   "execution_count": 1,
   "metadata": {},
   "outputs": [],
   "source": [
    "a = 10 "
   ]
  },
  {
   "cell_type": "code",
   "execution_count": 2,
   "metadata": {},
   "outputs": [],
   "source": [
    "if a < 15:\n",
    "    pass\n",
    "    "
   ]
  },
  {
   "cell_type": "code",
   "execution_count": 3,
   "metadata": {},
   "outputs": [
    {
     "data": {
      "text/plain": [
       "True"
      ]
     },
     "execution_count": 3,
     "metadata": {},
     "output_type": "execute_result"
    }
   ],
   "source": [
    "a < 15"
   ]
  },
  {
   "cell_type": "code",
   "execution_count": 4,
   "metadata": {},
   "outputs": [
    {
     "name": "stdout",
     "output_type": "stream",
     "text": [
      "my name is imran\n"
     ]
    }
   ],
   "source": [
    "if a < 15 :\n",
    "    print(\"my name is imran\")"
   ]
  },
  {
   "cell_type": "code",
   "execution_count": 5,
   "metadata": {},
   "outputs": [],
   "source": [
    "if 24 < 15 :\n",
    "    print(\"my name is imran\")"
   ]
  },
  {
   "cell_type": "code",
   "execution_count": 6,
   "metadata": {},
   "outputs": [
    {
     "data": {
      "text/plain": [
       "False"
      ]
     },
     "execution_count": 6,
     "metadata": {},
     "output_type": "execute_result"
    }
   ],
   "source": [
    "24 < 15"
   ]
  },
  {
   "cell_type": "code",
   "execution_count": 7,
   "metadata": {},
   "outputs": [
    {
     "name": "stdout",
     "output_type": "stream",
     "text": [
      " 10 is lesser then 3 \n"
     ]
    }
   ],
   "source": [
    "if 5<10 :\n",
    "    print(\" 10 is lesser then 3 \")\n",
    "else :\n",
    "    print(\"if statemnt is wrong \")\n",
    "\n",
    "    "
   ]
  },
  {
   "cell_type": "code",
   "execution_count": 8,
   "metadata": {},
   "outputs": [
    {
     "name": "stdout",
     "output_type": "stream",
     "text": [
      "40\n",
      "i will be able to buy phone\n"
     ]
    }
   ],
   "source": [
    "income = int(input())\n",
    "if income < 50:\n",
    "    print(\"i will be able to buy phone\")\n",
    "elif income < 70 :\n",
    "    print(\"i will be able to buy car \")\n",
    "elif  income < 90 :\n",
    "    print(\"i will be able to rent a house \")\n",
    "else :\n",
    "    print(\"i wont be able to buy anything\")"
   ]
  },
  {
   "cell_type": "code",
   "execution_count": 11,
   "metadata": {},
   "outputs": [
    {
     "name": "stdout",
     "output_type": "stream",
     "text": [
      "1000\n",
      "dicount will be  50.0\n"
     ]
    }
   ],
   "source": [
    "Total_price = int(input())\n",
    "if Total_price  > 20000 :\n",
    "    discount = Total_price * .20\n",
    "    print(\"Discount will be \" , discount)\n",
    "elif Total_price <= 7000 :\n",
    "    discount = Total_price *.05\n",
    "    print(\"dicount will be \" , discount)\n",
    "else :\n",
    "    print( \"wont be able to give any discount \")"
   ]
  },
  {
   "cell_type": "code",
   "execution_count": 13,
   "metadata": {},
   "outputs": [
    {
     "name": "stdout",
     "output_type": "stream",
     "text": [
      "5000\n"
     ]
    }
   ],
   "source": [
    "Total_price = int(input())\n",
    "\n",
    "if Total_price > 20000:\n",
    "    dicount = Total_price * .20\n",
    "    print (\"Discount is\", discount)\n",
    "elif Total_price > 7000:\n",
    "    dicount = Total_price * .05\n",
    "    print (\"No discount\")\n",
    "\n",
    "# handle all conditions properly"
   ]
  },
  {
   "cell_type": "code",
   "execution_count": 19,
   "metadata": {},
   "outputs": [
    {
     "name": "stdout",
     "output_type": "stream",
     "text": [
      "Input coursework1 name english\n",
      "input score_theory1 71\n",
      "input score_practical1 71\n",
      "Input coursework2 name math\n",
      "input score_theory2 10\n",
      "input score_practical2 10\n",
      "Invalid input\n",
      "coursework not recognized\n"
     ]
    }
   ],
   "source": [
    "coursework1 = input(\"Input coursework1 name \")\n",
    "score_theory1 = int(input(\"input score_theory1 \"))\n",
    "score_practical1 = int(input(\"input score_practical1 \"))\n",
    "coursework2 = input(\"Input coursework2 name \")\n",
    "score_theory2 = int(input(\"input score_theory2 \"))\n",
    "score_practical2 = int(input(\"input score_practical2 \"))\n",
    "if(coursework1 == \"English\" or coursework1 == \"english\"):\n",
    "    if(score_theory1 >70):\n",
    "        print(\"Invalid input\")\n",
    "    elif(score_practical2>70):\n",
    "        print(\"Invalid input\")\n",
    "    else:\n",
    "        print(\"Sum of theory and practical in english \",score_theory1+score_practical1)\n",
    "if(coursework2 == \"Science\" or coursework2 == \"science\"):\n",
    "    if(score_theory2 >70):\n",
    "        print(\"Invalid input\")\n",
    "    elif(score_practical2>70):\n",
    "        print(\"Invalid input\")\n",
    "    else:\n",
    "        print(\"Sum of theory and practical in Science\",score_theory2+score_practical2)\n",
    "else:\n",
    "    print(\"coursework not recognized\")\n"
   ]
  },
  {
   "cell_type": "code",
   "execution_count": 22,
   "metadata": {},
   "outputs": [
    {
     "name": "stdout",
     "output_type": "stream",
     "text": [
      "pw\n",
      "kindly use a valid coupoun code \n"
     ]
    }
   ],
   "source": [
    "coup = input()\n",
    "if coup == \"pwioi\":\n",
    "    print(\"you will be able to get a discount of 5 % \")\n",
    "    paid_amount = 7080 - 7080*.05\n",
    "    print(\"you will be able to get pw skills with this amount \" , paid_amount )\n",
    "else :\n",
    "    print(\"kindly use a valid coupoun code \")"
   ]
  },
  {
   "cell_type": "code",
   "execution_count": 23,
   "metadata": {},
   "outputs": [
    {
     "data": {
      "text/plain": [
       "True"
      ]
     },
     "execution_count": 23,
     "metadata": {},
     "output_type": "execute_result"
    }
   ],
   "source": [
    "\"pwioi\" == \"pwioi\""
   ]
  },
  {
   "cell_type": "code",
   "execution_count": 26,
   "metadata": {},
   "outputs": [
    {
     "name": "stdout",
     "output_type": "stream",
     "text": [
      "2\n",
      "it may take 6 month for transition\n"
     ]
    }
   ],
   "source": [
    "study_hour = int(input())\n",
    "if study_hour < 1:\n",
    "    print(\"it may take  8- 9 month of time to make a transitinon into data science \")\n",
    "elif study_hour < 4 and  study_hour > 1:\n",
    "    print(\"it may take 6 month for transition\")\n",
    "elif study_hour > 10 :\n",
    "    print(\" it will take 3 month of time for transition into data scinence \")\n",
    "else :\n",
    "    print(\"it will be difficult \")"
   ]
  },
  {
   "cell_type": "code",
   "execution_count": 27,
   "metadata": {},
   "outputs": [
    {
     "name": "stdout",
     "output_type": "stream",
     "text": [
      "4\n",
      "succeed\n"
     ]
    }
   ],
   "source": [
    "study = float(input())\n",
    "if study <1 and  study >0.5:\n",
    "    print(\"you may succeed\")\n",
    "elif   study <6 and  study >1:\n",
    "        print(\"succeed\")\n",
    "else :\n",
    "    print(\"fail\")\n"
   ]
  },
  {
   "cell_type": "code",
   "execution_count": 28,
   "metadata": {},
   "outputs": [
    {
     "name": "stdout",
     "output_type": "stream",
     "text": [
      "valid\n"
     ]
    }
   ],
   "source": [
    "a = 9 \n",
    "if a == 9 : \n",
    "    print(\"valid\")"
   ]
  },
  {
   "cell_type": "code",
   "execution_count": 31,
   "metadata": {},
   "outputs": [
    {
     "name": "stdout",
     "output_type": "stream",
     "text": [
      "enter a string to start pwskillsservice\n",
      "enter a course name DSA\n",
      "enter a service name doubt\n",
      "*NOTE: Dear Learner, you can raise demand related to any doubt clearing, and we will fulfil your need in the next 24 hours.\n"
     ]
    }
   ],
   "source": [
    "s = input(\"enter a string to start \")\n",
    "course = input(\"enter a course name \")\n",
    "service = input(\"enter a service name \")\n",
    "if s == \"pwskills\":\n",
    "    if course == \"DSA\":\n",
    "        print(\"yes its available under pwskills and in multiple mode for job prepratoin and core concept \")\n",
    "    elif course == \"Blockchain\":\n",
    "        print(\"this is not aviable as of now , kindly raise your demand and we will fulfil in 60 days \")\n",
    "    elif course == \"FSDS\":\n",
    "        print(\"yes its availble , you can start learning \")\n",
    "    else :\n",
    "        print(\"this course is not availble kindly raise your demand \")\n",
    "elif s  == \"pwskillsservice\":\n",
    "    if service == \"courserequest\":\n",
    "        print(\"*NOTE: Dear Learner, you can raise demand related to any new course, and we will fulfil your need in the next 60 days.\")\n",
    "    elif service == \"module\" :\n",
    "        print(\"*NOTE: Dear Learner, you can raise demand related to any new course module, and we will fulfil your need in the next 30 days.\")\n",
    "    elif service == \"doubt\":\n",
    "        print(\"*NOTE: Dear Learner, you can raise demand related to any doubt clearing, and we will fulfil your need in the next 24 hours.\")\n",
    "    elif service == \"workwithus\":\n",
    "        print(\"*NOTE: Dear Learner, you can raise the demand to work with our team; our HR will evaluate and get back to you in 24 hours.\")\n",
    "    else :\n",
    "        print(\"kindly provide us your feedback and we will fulfil\")\n",
    "else :\n",
    "    print(\"kindly connect with our team \")"
   ]
  },
  {
   "cell_type": "markdown",
   "metadata": {},
   "source": [
    "# if assignments"
   ]
  },
  {
   "cell_type": "markdown",
   "metadata": {},
   "source": [
    "# For Loop"
   ]
  },
  {
   "cell_type": "code",
   "execution_count": 33,
   "metadata": {},
   "outputs": [],
   "source": [
    "# https://pythontutor.com/render.html#mode=edit"
   ]
  },
  {
   "cell_type": "code",
   "execution_count": 34,
   "metadata": {},
   "outputs": [
    {
     "name": "stdout",
     "output_type": "stream",
     "text": [
      "1\n",
      "2\n",
      "3\n",
      "4\n",
      "5\n",
      "6\n",
      "7\n"
     ]
    }
   ],
   "source": [
    "l = [1,2,3,4,5,6,7]\n",
    "for i in l :\n",
    "    print(i)\n",
    "    "
   ]
  },
  {
   "cell_type": "code",
   "execution_count": 35,
   "metadata": {},
   "outputs": [
    {
     "name": "stdout",
     "output_type": "stream",
     "text": [
      "p\n",
      "w\n",
      "s\n",
      "k\n",
      "i\n",
      "l\n",
      "l\n",
      "s\n"
     ]
    }
   ],
   "source": [
    "\n",
    "for i in \"pwskills\" :\n",
    "    print(i)\n",
    "    \n",
    "    "
   ]
  },
  {
   "cell_type": "code",
   "execution_count": 36,
   "metadata": {},
   "outputs": [],
   "source": [
    "t = (1 ,2,3,4,5,6,6)"
   ]
  },
  {
   "cell_type": "code",
   "execution_count": 37,
   "metadata": {},
   "outputs": [
    {
     "name": "stdout",
     "output_type": "stream",
     "text": [
      "1\n",
      "2\n",
      "3\n",
      "4\n",
      "5\n",
      "6\n",
      "6\n"
     ]
    }
   ],
   "source": [
    "for i in t :\n",
    "    print(i)"
   ]
  },
  {
   "cell_type": "code",
   "execution_count": 38,
   "metadata": {},
   "outputs": [],
   "source": [
    "l = [1 ,4,5.6 , 4+7j , \"pwioi\" ]"
   ]
  },
  {
   "cell_type": "code",
   "execution_count": 39,
   "metadata": {},
   "outputs": [
    {
     "name": "stdout",
     "output_type": "stream",
     "text": [
      "<class 'int'> type of  1\n",
      "<class 'int'> type of  4\n",
      "<class 'float'> type of  5.6\n",
      "<class 'complex'> type of  (4+7j)\n",
      "<class 'str'> type of  pwioi\n"
     ]
    }
   ],
   "source": [
    "for i in l :\n",
    "    print(type(i) , \"type of \" , i )\n",
    "    \n",
    "    "
   ]
  },
  {
   "cell_type": "code",
   "execution_count": 40,
   "metadata": {},
   "outputs": [
    {
     "data": {
      "text/plain": [
       "int"
      ]
     },
     "execution_count": 40,
     "metadata": {},
     "output_type": "execute_result"
    }
   ],
   "source": [
    "type(1)"
   ]
  },
  {
   "cell_type": "code",
   "execution_count": 41,
   "metadata": {},
   "outputs": [
    {
     "name": "stdout",
     "output_type": "stream",
     "text": [
      "3\n",
      "6\n",
      "7.6\n"
     ]
    }
   ],
   "source": [
    "l = [1 ,4,5.6 ]\n",
    "l1 = []\n",
    "for i in l :\n",
    "    print(i+2)\n",
    "    l1.append(i+2)"
   ]
  },
  {
   "cell_type": "code",
   "execution_count": 42,
   "metadata": {},
   "outputs": [
    {
     "data": {
      "text/plain": [
       "[3, 6, 7.6]"
      ]
     },
     "execution_count": 42,
     "metadata": {},
     "output_type": "execute_result"
    }
   ],
   "source": [
    "l1"
   ]
  },
  {
   "cell_type": "code",
   "execution_count": 43,
   "metadata": {},
   "outputs": [],
   "source": [
    "l = [2,45,78,12,\"pwioi\" , 6+7j,[56,67,78,\"dsfdsf\"]]"
   ]
  },
  {
   "cell_type": "code",
   "execution_count": 45,
   "metadata": {},
   "outputs": [
    {
     "name": "stdout",
     "output_type": "stream",
     "text": [
      "2\n",
      "45\n",
      "78\n",
      "12\n",
      "56\n",
      "67\n",
      "78\n"
     ]
    }
   ],
   "source": [
    "for i in l :\n",
    "    if type(i) == int :\n",
    "        print(i)\n",
    "    elif type(i) == list:\n",
    "        for j in i :\n",
    "            if type(j) == int:\n",
    "                print(j)"
   ]
  },
  {
   "cell_type": "code",
   "execution_count": 49,
   "metadata": {},
   "outputs": [
    {
     "data": {
      "text/plain": [
       "range(0, 4)"
      ]
     },
     "execution_count": 49,
     "metadata": {},
     "output_type": "execute_result"
    }
   ],
   "source": [
    "range(4)\n",
    "\n",
    "# range function"
   ]
  },
  {
   "cell_type": "code",
   "execution_count": 50,
   "metadata": {},
   "outputs": [
    {
     "data": {
      "text/plain": [
       "[0, 1, 2, 3]"
      ]
     },
     "execution_count": 50,
     "metadata": {},
     "output_type": "execute_result"
    }
   ],
   "source": [
    "list(range(4))"
   ]
  },
  {
   "cell_type": "code",
   "execution_count": 51,
   "metadata": {},
   "outputs": [
    {
     "data": {
      "text/plain": [
       "[2, 4, 6, 8]"
      ]
     },
     "execution_count": 51,
     "metadata": {},
     "output_type": "execute_result"
    }
   ],
   "source": [
    "list(range(2,10,2))"
   ]
  },
  {
   "cell_type": "code",
   "execution_count": 52,
   "metadata": {},
   "outputs": [],
   "source": [
    "l = [2,45,78,12,12,12,12,\"pwioi\" , 6+7j,[56,67,78,\"dsfdsf\"]]\n",
    "#q1 . try to print index of all the element \n",
    "#q2 . Try to extract all the list of char if element is string \n",
    "#q3 . Try to return a list after doing a square of all the int element \n",
    "    "
   ]
  },
  {
   "cell_type": "code",
   "execution_count": 53,
   "metadata": {},
   "outputs": [
    {
     "data": {
      "text/plain": [
       "10"
      ]
     },
     "execution_count": 53,
     "metadata": {},
     "output_type": "execute_result"
    }
   ],
   "source": [
    "len(l)"
   ]
  },
  {
   "cell_type": "code",
   "execution_count": null,
   "metadata": {},
   "outputs": [],
   "source": []
  },
  {
   "cell_type": "code",
   "execution_count": 54,
   "metadata": {},
   "outputs": [
    {
     "name": "stdout",
     "output_type": "stream",
     "text": [
      "index 0 for an element  2\n",
      "index 1 for an element  45\n",
      "index 2 for an element  78\n",
      "index 3 for an element  12\n",
      "index 4 for an element  12\n",
      "index 5 for an element  12\n",
      "index 6 for an element  12\n",
      "index 7 for an element  pwioi\n",
      "index 8 for an element  (6+7j)\n",
      "index 9 for an element  [56, 67, 78, 'dsfdsf']\n"
     ]
    }
   ],
   "source": [
    "for i in range(len(l)):\n",
    "    print(\"index\" , i  , \"for an element \" , l[i])"
   ]
  },
  {
   "cell_type": "code",
   "execution_count": 55,
   "metadata": {},
   "outputs": [
    {
     "data": {
      "text/plain": [
       "[2, 45, 78, 12, 12, 12, 12, 'pwioi', (6+7j), [56, 67, 78, 'dsfdsf']]"
      ]
     },
     "execution_count": 55,
     "metadata": {},
     "output_type": "execute_result"
    }
   ],
   "source": [
    "l"
   ]
  },
  {
   "cell_type": "code",
   "execution_count": 57,
   "metadata": {},
   "outputs": [],
   "source": [
    "# Enumerate is a built-in function in python that allows you to keep track of the number of iterations (loops) in a loop.\n",
    "\n",
    "# It adds a counter to an iterable and returns it as an enumerate object. And this enumerate object can then be\n",
    "#used directly for loops or converted into a list of tuples using the list () method. "
   ]
  },
  {
   "cell_type": "code",
   "execution_count": 61,
   "metadata": {},
   "outputs": [
    {
     "name": "stdout",
     "output_type": "stream",
     "text": [
      "Return type: <class 'enumerate'>\n",
      "[(0, 'eat'), (1, 'sleep'), (2, 'repeat')]\n",
      "[(2, 'p'), (3, 'w'), (4, 'i'), (5, 'o'), (6, 'i')]\n"
     ]
    }
   ],
   "source": [
    "l1 = [\"eat\", \"sleep\", \"repeat\"]\n",
    "s1 = \"pwioi\"\n",
    "\n",
    "# creating enumerate objects\n",
    "obj1 = enumerate(l1)\n",
    "obj2 = enumerate(s1)\n",
    "\n",
    "print (\"Return type:\", type(obj1))\n",
    "print (list(enumerate(l1)))\n",
    "\n",
    "# changing start index to 2 from 0\n",
    "print (list(enumerate(s1, 2)))\n"
   ]
  },
  {
   "cell_type": "code",
   "execution_count": 62,
   "metadata": {},
   "outputs": [
    {
     "name": "stdout",
     "output_type": "stream",
     "text": [
      "0 eat\n",
      "1 sleep\n",
      "2 repeat\n"
     ]
    }
   ],
   "source": [
    "for index,item in obj1:\n",
    "    print(index,item)"
   ]
  },
  {
   "cell_type": "code",
   "execution_count": 63,
   "metadata": {},
   "outputs": [
    {
     "name": "stdout",
     "output_type": "stream",
     "text": [
      "0 p\n",
      "1 w\n",
      "2 i\n",
      "3 o\n",
      "4 i\n"
     ]
    }
   ],
   "source": [
    "for index,item in obj2:\n",
    "    print(index,item)"
   ]
  },
  {
   "cell_type": "code",
   "execution_count": 64,
   "metadata": {},
   "outputs": [
    {
     "name": "stdout",
     "output_type": "stream",
     "text": [
      "0 a\n",
      "1 b\n",
      "2 c\n"
     ]
    }
   ],
   "source": [
    "my_list = ['a', 'b', 'c']\n",
    "\n",
    "for index, item in enumerate(my_list):\n",
    "    print(index,item)"
   ]
  },
  {
   "cell_type": "code",
   "execution_count": 65,
   "metadata": {},
   "outputs": [
    {
     "name": "stdout",
     "output_type": "stream",
     "text": [
      "0 2\n",
      "1 45\n",
      "2 78\n",
      "3 12\n",
      "4 12\n",
      "5 12\n",
      "6 12\n",
      "7 pwioi\n",
      "8 (6+7j)\n",
      "9 [56, 67, 78, 'dsfdsf']\n"
     ]
    }
   ],
   "source": [
    "for i,j  in enumerate(l):\n",
    "    print(i ,j)"
   ]
  },
  {
   "cell_type": "code",
   "execution_count": 66,
   "metadata": {},
   "outputs": [
    {
     "data": {
      "text/plain": [
       "[2, 45, 78, 12, 12, 12, 12, 'pwioi', (6+7j), [56, 67, 78, 'dsfdsf']]"
      ]
     },
     "execution_count": 66,
     "metadata": {},
     "output_type": "execute_result"
    }
   ],
   "source": [
    "l"
   ]
  },
  {
   "cell_type": "code",
   "execution_count": 67,
   "metadata": {},
   "outputs": [
    {
     "name": "stdout",
     "output_type": "stream",
     "text": [
      "['p', 'w', 'i', 'o', 'i']\n"
     ]
    }
   ],
   "source": [
    "for i in l :\n",
    "    if type(i) == str :\n",
    "        l1 = []\n",
    "        for j in i :\n",
    "            l1.append(j)\n",
    "        print(l1)\n",
    "        "
   ]
  },
  {
   "cell_type": "code",
   "execution_count": 71,
   "metadata": {},
   "outputs": [],
   "source": [
    "l = [2,45,78,10,20,30,40,\"pw\"  ,\"ioi\" , 6+7j,[56,67,78,\"dsfdsf\"]]"
   ]
  },
  {
   "cell_type": "code",
   "execution_count": 72,
   "metadata": {},
   "outputs": [
    {
     "data": {
      "text/plain": [
       "[2, 45, 78, 10, 20, 30, 40, 'pw', 'ioi', (6+7j), [56, 67, 78, 'dsfdsf']]"
      ]
     },
     "execution_count": 72,
     "metadata": {},
     "output_type": "execute_result"
    }
   ],
   "source": [
    "l\n"
   ]
  },
  {
   "cell_type": "code",
   "execution_count": 73,
   "metadata": {},
   "outputs": [
    {
     "name": "stdout",
     "output_type": "stream",
     "text": [
      "4\n",
      "2025\n",
      "6084\n",
      "100\n",
      "400\n",
      "900\n",
      "1600\n"
     ]
    }
   ],
   "source": [
    "\n",
    "for i in l :\n",
    "    if type(i) == int :\n",
    "            print(i**2)\n",
    "        "
   ]
  },
  {
   "cell_type": "code",
   "execution_count": 78,
   "metadata": {},
   "outputs": [],
   "source": [
    "l1=\"pwioi\""
   ]
  },
  {
   "cell_type": "code",
   "execution_count": 88,
   "metadata": {},
   "outputs": [
    {
     "name": "stdout",
     "output_type": "stream",
     "text": [
      "index of  0 for an element p\n",
      "index of  1 for an element w\n",
      "index of  2 for an element i\n",
      "index of  3 for an element o\n",
      "index of  4 for an element i\n"
     ]
    }
   ],
   "source": [
    "for i in range (len(l1)): # question \n",
    "    print(\"index of \",i ,\"for an element\",l1[i])\n"
   ]
  }
 ],
 "metadata": {
  "kernelspec": {
   "display_name": "Python 3 (ipykernel)",
   "language": "python",
   "name": "python3"
  },
  "language_info": {
   "codemirror_mode": {
    "name": "ipython",
    "version": 3
   },
   "file_extension": ".py",
   "mimetype": "text/x-python",
   "name": "python",
   "nbconvert_exporter": "python",
   "pygments_lexer": "ipython3",
   "version": "3.9.12"
  }
 },
 "nbformat": 4,
 "nbformat_minor": 4
}
